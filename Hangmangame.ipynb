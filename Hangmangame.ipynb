{
  "nbformat": 4,
  "nbformat_minor": 0,
  "metadata": {
    "colab": {
      "provenance": []
    },
    "kernelspec": {
      "name": "python3",
      "display_name": "Python 3"
    },
    "language_info": {
      "name": "python"
    }
  },
  "cells": [
    {
      "cell_type": "code",
      "execution_count": 28,
      "metadata": {
        "id": "aPLxXSB5Mf9u"
      },
      "outputs": [],
      "source": [
        "import random"
      ]
    },
    {
      "cell_type": "code",
      "source": [
        "def mask_word(word):\n",
        "    return '*' * len(word)"
      ],
      "metadata": {
        "id": "0dzPfay-Mjm0"
      },
      "execution_count": 29,
      "outputs": []
    },
    {
      "cell_type": "code",
      "source": [
        "def uncover_word(answer_word, masked_word, guessed_letter):\n",
        "    new_masked_word = ''\n",
        "    for idx, char in enumerate(answer_word):\n",
        "        if char == guessed_letter:\n",
        "            new_masked_word += guessed_letter\n",
        "        else:\n",
        "            new_masked_word += masked_word[idx]\n",
        "    return new_masked_word"
      ],
      "metadata": {
        "id": "PVneMcnpMkPP"
      },
      "execution_count": 30,
      "outputs": []
    },
    {
      "cell_type": "code",
      "source": [
        "def get_random_word(word_list):\n",
        "    return random.choice(word_list)"
      ],
      "metadata": {
        "id": "sav4b9qwMksC"
      },
      "execution_count": 31,
      "outputs": []
    },
    {
      "cell_type": "code",
      "source": [
        "def guess(game, letter):\n",
        "    if game['remaining_guesses'] <= 0:\n",
        "        return \"Game over! No more guesses remaining.\"\n",
        "\n",
        "    if game['answer_word'] == game['masked_word']:\n",
        "        return \"You've already won the game!\"\n",
        "\n",
        "    if letter in game['guessed_letters']:\n",
        "        return f\"You've already guessed the letter '{letter}'. Try another one.\"\n",
        "\n",
        "    game['guessed_letters'].append(letter)\n",
        "\n",
        "    if letter in game['answer_word']:\n",
        "        game['masked_word'] = uncover_word(game['answer_word'], game['masked_word'], letter)\n",
        "        if game['answer_word'] == game['masked_word']:\n",
        "            return \"Congratulations! You've guessed the word.\"\n",
        "        else:\n",
        "            return f\"Good guess! New masked word: {game['masked_word']}\"\n",
        "    else:\n",
        "        game['remaining_guesses'] -= 1\n",
        "        if game['remaining_guesses'] == 0:\n",
        "            return f\"Game over! The word was '{game['answer_word']}'.\"\n",
        "        else:\n",
        "            return f\"Oops! '{letter}' is not in the word. Remaining guesses: {game['remaining_guesses']}\"\n"
      ],
      "metadata": {
        "id": "1iy9d5E8MlIU"
      },
      "execution_count": 32,
      "outputs": []
    },
    {
      "cell_type": "code",
      "source": [
        "def start_new_game(word_list, max_guesses=6):\n",
        "    answer_word = get_random_word(word_list)\n",
        "    masked_word = mask_word(answer_word)\n",
        "\n",
        "    game = {\n",
        "        'answer_word': answer_word,\n",
        "        'masked_word': masked_word,\n",
        "        'remaining_guesses': max_guesses,\n",
        "        'guessed_letters': []\n",
        "    }\n",
        "\n",
        "    return game\n"
      ],
      "metadata": {
        "id": "XpOAjuxcM14i"
      },
      "execution_count": 33,
      "outputs": []
    },
    {
      "cell_type": "code",
      "source": [
        "# Example Usage\n",
        "word_list = ['Python', 'Hangman', 'Game', 'Code']\n",
        "game = start_new_game(word_list)\n",
        "\n",
        "print(\"Start new game!\")\n",
        "print(f\"Masked Word: {game['masked_word']}\")\n",
        "\n",
        "while game['remaining_guesses'] > 0 and game['answer_word'] != game['masked_word']:\n",
        "    guess_letter = input(\"Guess a letter: \")\n",
        "    result = guess(game, guess_letter)\n",
        "    print(result)\n",
        "\n",
        "if game['answer_word'] == game['masked_word']:\n",
        "    print(\"Congratulations! You've guessed the word.\")\n",
        "else:\n",
        "    print(f\"Game over! The word was '{game['answer_word']}'.\")\n"
      ],
      "metadata": {
        "colab": {
          "base_uri": "https://localhost:8080/"
        },
        "id": "HM2p5joHM2Su",
        "outputId": "838bc1e0-8b48-4ab6-b41d-f00aec0fc558"
      },
      "execution_count": 34,
      "outputs": [
        {
          "output_type": "stream",
          "name": "stdout",
          "text": [
            "Start new game!\n",
            "Masked Word: *******\n",
            "Guess a letter: g\n",
            "Good guess! New masked word: ***g***\n",
            "Guess a letter: m\n",
            "Good guess! New masked word: ***gm**\n",
            "Guess a letter: a\n",
            "Good guess! New masked word: *a*gma*\n",
            "Guess a letter: s\n",
            "Oops! 's' is not in the word. Remaining guesses: 5\n",
            "Guess a letter: n\n",
            "Good guess! New masked word: *angman\n",
            "Guess a letter: Hangman\n",
            "Good guess! New masked word: *angman\n",
            "Guess a letter: hangman\n",
            "Oops! 'hangman' is not in the word. Remaining guesses: 4\n",
            "Guess a letter: h\n",
            "Oops! 'h' is not in the word. Remaining guesses: 3\n",
            "Guess a letter: o\n",
            "Oops! 'o' is not in the word. Remaining guesses: 2\n",
            "Guess a letter: H\n",
            "Congratulations! You've guessed the word.\n",
            "Congratulations! You've guessed the word.\n"
          ]
        }
      ]
    }
  ]
}